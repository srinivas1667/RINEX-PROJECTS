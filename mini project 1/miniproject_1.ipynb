{
  "nbformat": 4,
  "nbformat_minor": 0,
  "metadata": {
    "colab": {
      "provenance": []
    },
    "kernelspec": {
      "name": "python3",
      "display_name": "Python 3"
    },
    "language_info": {
      "name": "python"
    }
  },
  "cells": [
    {
      "cell_type": "code",
      "execution_count": null,
      "metadata": {
        "colab": {
          "base_uri": "https://localhost:8080/",
          "height": 609
        },
        "id": "CeCK_tc5BNx2",
        "outputId": "cc5bff54-8624-4cc2-8384-fc969d8d98c5"
      },
      "outputs": [
        {
          "output_type": "execute_result",
          "data": {
            "text/plain": [
              "    Number Format  Inning Position  Score  Balls  Strike Rate       Against  \\\n",
              "0        1    ODI       2        4    107    114    93.859649     Sri Lanka   \n",
              "1        2    ODI       2        3    102     95   107.368421    Bangladesh   \n",
              "2        3    ODI       2        3    118    121    97.520661     Australia   \n",
              "3        4    ODI       1        3    105    104   100.961539   New Zealand   \n",
              "4        5    ODI       1        4    100     83   120.481928    Bangladesh   \n",
              "..     ...    ...     ...      ...    ...    ...          ...           ...   \n",
              "72      73    ODI       2        3    114     99   115.151515   West Indies   \n",
              "73      74   Test       1        4    254    336    75.595238  South Africa   \n",
              "74      75   Test       2        4    136    194    70.103093    Bangladesh   \n",
              "75      76   T20i       1     Open    122     61   200.000000   Afghanistan   \n",
              "76      77    ODI       1        3    113     91   124.175824    Bangladesh   \n",
              "\n",
              "            Venue  Host Nation      Series  Year  Team Total  Wickets lost  \\\n",
              "0         Kolkata        India   Bilateral  2009         316             3   \n",
              "1          Mirpur   Bangladesh  Tri-Series  2010         249             4   \n",
              "2           Vizag        India   Bilateral  2010         292             5   \n",
              "3        Guwahati        India   Bilateral  2010         276            10   \n",
              "4          Mirpur   Bangladesh   World Cup  2011         370             4   \n",
              "..            ...          ...         ...   ...         ...           ...   \n",
              "72  Port Of Spain  West Indies   Bilateral  2019         256             4   \n",
              "73           Pune        India   Bilateral  2019         601             5   \n",
              "74        Kolkata        India   Bilateral  2019         347             9   \n",
              "75          Dubai          UAE    Asia Cup  2022         212             2   \n",
              "76     Chattogram   Bangladesh   Bilateral  2022         409             8   \n",
              "\n",
              "   Not Out MOTM  Win Captain  \n",
              "0       No   No  Yes      No  \n",
              "1      Yes  Yes  Yes      No  \n",
              "2       No  Yes  Yes      No  \n",
              "3       No  Yes  Yes      No  \n",
              "4      Yes   No  Yes      No  \n",
              "..     ...  ...  ...     ...  \n",
              "72     Yes  Yes  Yes     Yes  \n",
              "73     Yes  Yes  Yes     Yes  \n",
              "74      No   No  Yes     Yes  \n",
              "75     Yes  Yes  Yes      No  \n",
              "76      No   No  Yes      No  \n",
              "\n",
              "[77 rows x 18 columns]"
            ],
            "text/html": [
              "\n",
              "  <div id=\"df-fe2b5b8f-4934-4464-bea4-9fb857476f3d\">\n",
              "    <div class=\"colab-df-container\">\n",
              "      <div>\n",
              "<style scoped>\n",
              "    .dataframe tbody tr th:only-of-type {\n",
              "        vertical-align: middle;\n",
              "    }\n",
              "\n",
              "    .dataframe tbody tr th {\n",
              "        vertical-align: top;\n",
              "    }\n",
              "\n",
              "    .dataframe thead th {\n",
              "        text-align: right;\n",
              "    }\n",
              "</style>\n",
              "<table border=\"1\" class=\"dataframe\">\n",
              "  <thead>\n",
              "    <tr style=\"text-align: right;\">\n",
              "      <th></th>\n",
              "      <th>Number</th>\n",
              "      <th>Format</th>\n",
              "      <th>Inning</th>\n",
              "      <th>Position</th>\n",
              "      <th>Score</th>\n",
              "      <th>Balls</th>\n",
              "      <th>Strike Rate</th>\n",
              "      <th>Against</th>\n",
              "      <th>Venue</th>\n",
              "      <th>Host Nation</th>\n",
              "      <th>Series</th>\n",
              "      <th>Year</th>\n",
              "      <th>Team Total</th>\n",
              "      <th>Wickets lost</th>\n",
              "      <th>Not Out</th>\n",
              "      <th>MOTM</th>\n",
              "      <th>Win</th>\n",
              "      <th>Captain</th>\n",
              "    </tr>\n",
              "  </thead>\n",
              "  <tbody>\n",
              "    <tr>\n",
              "      <th>0</th>\n",
              "      <td>1</td>\n",
              "      <td>ODI</td>\n",
              "      <td>2</td>\n",
              "      <td>4</td>\n",
              "      <td>107</td>\n",
              "      <td>114</td>\n",
              "      <td>93.859649</td>\n",
              "      <td>Sri Lanka</td>\n",
              "      <td>Kolkata</td>\n",
              "      <td>India</td>\n",
              "      <td>Bilateral</td>\n",
              "      <td>2009</td>\n",
              "      <td>316</td>\n",
              "      <td>3</td>\n",
              "      <td>No</td>\n",
              "      <td>No</td>\n",
              "      <td>Yes</td>\n",
              "      <td>No</td>\n",
              "    </tr>\n",
              "    <tr>\n",
              "      <th>1</th>\n",
              "      <td>2</td>\n",
              "      <td>ODI</td>\n",
              "      <td>2</td>\n",
              "      <td>3</td>\n",
              "      <td>102</td>\n",
              "      <td>95</td>\n",
              "      <td>107.368421</td>\n",
              "      <td>Bangladesh</td>\n",
              "      <td>Mirpur</td>\n",
              "      <td>Bangladesh</td>\n",
              "      <td>Tri-Series</td>\n",
              "      <td>2010</td>\n",
              "      <td>249</td>\n",
              "      <td>4</td>\n",
              "      <td>Yes</td>\n",
              "      <td>Yes</td>\n",
              "      <td>Yes</td>\n",
              "      <td>No</td>\n",
              "    </tr>\n",
              "    <tr>\n",
              "      <th>2</th>\n",
              "      <td>3</td>\n",
              "      <td>ODI</td>\n",
              "      <td>2</td>\n",
              "      <td>3</td>\n",
              "      <td>118</td>\n",
              "      <td>121</td>\n",
              "      <td>97.520661</td>\n",
              "      <td>Australia</td>\n",
              "      <td>Vizag</td>\n",
              "      <td>India</td>\n",
              "      <td>Bilateral</td>\n",
              "      <td>2010</td>\n",
              "      <td>292</td>\n",
              "      <td>5</td>\n",
              "      <td>No</td>\n",
              "      <td>Yes</td>\n",
              "      <td>Yes</td>\n",
              "      <td>No</td>\n",
              "    </tr>\n",
              "    <tr>\n",
              "      <th>3</th>\n",
              "      <td>4</td>\n",
              "      <td>ODI</td>\n",
              "      <td>1</td>\n",
              "      <td>3</td>\n",
              "      <td>105</td>\n",
              "      <td>104</td>\n",
              "      <td>100.961539</td>\n",
              "      <td>New Zealand</td>\n",
              "      <td>Guwahati</td>\n",
              "      <td>India</td>\n",
              "      <td>Bilateral</td>\n",
              "      <td>2010</td>\n",
              "      <td>276</td>\n",
              "      <td>10</td>\n",
              "      <td>No</td>\n",
              "      <td>Yes</td>\n",
              "      <td>Yes</td>\n",
              "      <td>No</td>\n",
              "    </tr>\n",
              "    <tr>\n",
              "      <th>4</th>\n",
              "      <td>5</td>\n",
              "      <td>ODI</td>\n",
              "      <td>1</td>\n",
              "      <td>4</td>\n",
              "      <td>100</td>\n",
              "      <td>83</td>\n",
              "      <td>120.481928</td>\n",
              "      <td>Bangladesh</td>\n",
              "      <td>Mirpur</td>\n",
              "      <td>Bangladesh</td>\n",
              "      <td>World Cup</td>\n",
              "      <td>2011</td>\n",
              "      <td>370</td>\n",
              "      <td>4</td>\n",
              "      <td>Yes</td>\n",
              "      <td>No</td>\n",
              "      <td>Yes</td>\n",
              "      <td>No</td>\n",
              "    </tr>\n",
              "    <tr>\n",
              "      <th>...</th>\n",
              "      <td>...</td>\n",
              "      <td>...</td>\n",
              "      <td>...</td>\n",
              "      <td>...</td>\n",
              "      <td>...</td>\n",
              "      <td>...</td>\n",
              "      <td>...</td>\n",
              "      <td>...</td>\n",
              "      <td>...</td>\n",
              "      <td>...</td>\n",
              "      <td>...</td>\n",
              "      <td>...</td>\n",
              "      <td>...</td>\n",
              "      <td>...</td>\n",
              "      <td>...</td>\n",
              "      <td>...</td>\n",
              "      <td>...</td>\n",
              "      <td>...</td>\n",
              "    </tr>\n",
              "    <tr>\n",
              "      <th>72</th>\n",
              "      <td>73</td>\n",
              "      <td>ODI</td>\n",
              "      <td>2</td>\n",
              "      <td>3</td>\n",
              "      <td>114</td>\n",
              "      <td>99</td>\n",
              "      <td>115.151515</td>\n",
              "      <td>West Indies</td>\n",
              "      <td>Port Of Spain</td>\n",
              "      <td>West Indies</td>\n",
              "      <td>Bilateral</td>\n",
              "      <td>2019</td>\n",
              "      <td>256</td>\n",
              "      <td>4</td>\n",
              "      <td>Yes</td>\n",
              "      <td>Yes</td>\n",
              "      <td>Yes</td>\n",
              "      <td>Yes</td>\n",
              "    </tr>\n",
              "    <tr>\n",
              "      <th>73</th>\n",
              "      <td>74</td>\n",
              "      <td>Test</td>\n",
              "      <td>1</td>\n",
              "      <td>4</td>\n",
              "      <td>254</td>\n",
              "      <td>336</td>\n",
              "      <td>75.595238</td>\n",
              "      <td>South Africa</td>\n",
              "      <td>Pune</td>\n",
              "      <td>India</td>\n",
              "      <td>Bilateral</td>\n",
              "      <td>2019</td>\n",
              "      <td>601</td>\n",
              "      <td>5</td>\n",
              "      <td>Yes</td>\n",
              "      <td>Yes</td>\n",
              "      <td>Yes</td>\n",
              "      <td>Yes</td>\n",
              "    </tr>\n",
              "    <tr>\n",
              "      <th>74</th>\n",
              "      <td>75</td>\n",
              "      <td>Test</td>\n",
              "      <td>2</td>\n",
              "      <td>4</td>\n",
              "      <td>136</td>\n",
              "      <td>194</td>\n",
              "      <td>70.103093</td>\n",
              "      <td>Bangladesh</td>\n",
              "      <td>Kolkata</td>\n",
              "      <td>India</td>\n",
              "      <td>Bilateral</td>\n",
              "      <td>2019</td>\n",
              "      <td>347</td>\n",
              "      <td>9</td>\n",
              "      <td>No</td>\n",
              "      <td>No</td>\n",
              "      <td>Yes</td>\n",
              "      <td>Yes</td>\n",
              "    </tr>\n",
              "    <tr>\n",
              "      <th>75</th>\n",
              "      <td>76</td>\n",
              "      <td>T20i</td>\n",
              "      <td>1</td>\n",
              "      <td>Open</td>\n",
              "      <td>122</td>\n",
              "      <td>61</td>\n",
              "      <td>200.000000</td>\n",
              "      <td>Afghanistan</td>\n",
              "      <td>Dubai</td>\n",
              "      <td>UAE</td>\n",
              "      <td>Asia Cup</td>\n",
              "      <td>2022</td>\n",
              "      <td>212</td>\n",
              "      <td>2</td>\n",
              "      <td>Yes</td>\n",
              "      <td>Yes</td>\n",
              "      <td>Yes</td>\n",
              "      <td>No</td>\n",
              "    </tr>\n",
              "    <tr>\n",
              "      <th>76</th>\n",
              "      <td>77</td>\n",
              "      <td>ODI</td>\n",
              "      <td>1</td>\n",
              "      <td>3</td>\n",
              "      <td>113</td>\n",
              "      <td>91</td>\n",
              "      <td>124.175824</td>\n",
              "      <td>Bangladesh</td>\n",
              "      <td>Chattogram</td>\n",
              "      <td>Bangladesh</td>\n",
              "      <td>Bilateral</td>\n",
              "      <td>2022</td>\n",
              "      <td>409</td>\n",
              "      <td>8</td>\n",
              "      <td>No</td>\n",
              "      <td>No</td>\n",
              "      <td>Yes</td>\n",
              "      <td>No</td>\n",
              "    </tr>\n",
              "  </tbody>\n",
              "</table>\n",
              "<p>77 rows × 18 columns</p>\n",
              "</div>\n",
              "      <button class=\"colab-df-convert\" onclick=\"convertToInteractive('df-fe2b5b8f-4934-4464-bea4-9fb857476f3d')\"\n",
              "              title=\"Convert this dataframe to an interactive table.\"\n",
              "              style=\"display:none;\">\n",
              "        \n",
              "  <svg xmlns=\"http://www.w3.org/2000/svg\" height=\"24px\"viewBox=\"0 0 24 24\"\n",
              "       width=\"24px\">\n",
              "    <path d=\"M0 0h24v24H0V0z\" fill=\"none\"/>\n",
              "    <path d=\"M18.56 5.44l.94 2.06.94-2.06 2.06-.94-2.06-.94-.94-2.06-.94 2.06-2.06.94zm-11 1L8.5 8.5l.94-2.06 2.06-.94-2.06-.94L8.5 2.5l-.94 2.06-2.06.94zm10 10l.94 2.06.94-2.06 2.06-.94-2.06-.94-.94-2.06-.94 2.06-2.06.94z\"/><path d=\"M17.41 7.96l-1.37-1.37c-.4-.4-.92-.59-1.43-.59-.52 0-1.04.2-1.43.59L10.3 9.45l-7.72 7.72c-.78.78-.78 2.05 0 2.83L4 21.41c.39.39.9.59 1.41.59.51 0 1.02-.2 1.41-.59l7.78-7.78 2.81-2.81c.8-.78.8-2.07 0-2.86zM5.41 20L4 18.59l7.72-7.72 1.47 1.35L5.41 20z\"/>\n",
              "  </svg>\n",
              "      </button>\n",
              "      \n",
              "  <style>\n",
              "    .colab-df-container {\n",
              "      display:flex;\n",
              "      flex-wrap:wrap;\n",
              "      gap: 12px;\n",
              "    }\n",
              "\n",
              "    .colab-df-convert {\n",
              "      background-color: #E8F0FE;\n",
              "      border: none;\n",
              "      border-radius: 50%;\n",
              "      cursor: pointer;\n",
              "      display: none;\n",
              "      fill: #1967D2;\n",
              "      height: 32px;\n",
              "      padding: 0 0 0 0;\n",
              "      width: 32px;\n",
              "    }\n",
              "\n",
              "    .colab-df-convert:hover {\n",
              "      background-color: #E2EBFA;\n",
              "      box-shadow: 0px 1px 2px rgba(60, 64, 67, 0.3), 0px 1px 3px 1px rgba(60, 64, 67, 0.15);\n",
              "      fill: #174EA6;\n",
              "    }\n",
              "\n",
              "    [theme=dark] .colab-df-convert {\n",
              "      background-color: #3B4455;\n",
              "      fill: #D2E3FC;\n",
              "    }\n",
              "\n",
              "    [theme=dark] .colab-df-convert:hover {\n",
              "      background-color: #434B5C;\n",
              "      box-shadow: 0px 1px 3px 1px rgba(0, 0, 0, 0.15);\n",
              "      filter: drop-shadow(0px 1px 2px rgba(0, 0, 0, 0.3));\n",
              "      fill: #FFFFFF;\n",
              "    }\n",
              "  </style>\n",
              "\n",
              "      <script>\n",
              "        const buttonEl =\n",
              "          document.querySelector('#df-fe2b5b8f-4934-4464-bea4-9fb857476f3d button.colab-df-convert');\n",
              "        buttonEl.style.display =\n",
              "          google.colab.kernel.accessAllowed ? 'block' : 'none';\n",
              "\n",
              "        async function convertToInteractive(key) {\n",
              "          const element = document.querySelector('#df-fe2b5b8f-4934-4464-bea4-9fb857476f3d');\n",
              "          const dataTable =\n",
              "            await google.colab.kernel.invokeFunction('convertToInteractive',\n",
              "                                                     [key], {});\n",
              "          if (!dataTable) return;\n",
              "\n",
              "          const docLinkHtml = 'Like what you see? Visit the ' +\n",
              "            '<a target=\"_blank\" href=https://colab.research.google.com/notebooks/data_table.ipynb>data table notebook</a>'\n",
              "            + ' to learn more about interactive tables.';\n",
              "          element.innerHTML = '';\n",
              "          dataTable['output_type'] = 'display_data';\n",
              "          await google.colab.output.renderOutput(dataTable, element);\n",
              "          const docLink = document.createElement('div');\n",
              "          docLink.innerHTML = docLinkHtml;\n",
              "          element.appendChild(docLink);\n",
              "        }\n",
              "      </script>\n",
              "    </div>\n",
              "  </div>\n",
              "  "
            ]
          },
          "metadata": {},
          "execution_count": 7
        }
      ],
      "source": [
        "# THE DATASET THAT WE ARE GOING TO TAKE IS VIRAT KOHLI CENTURIES\n",
        "\n",
        "import pandas as pd\n",
        "import numpy as np\n",
        "\n",
        "df = pd.read_csv('/content/Virat_Kohli_100s.csv')\n",
        "df"
      ]
    },
    {
      "cell_type": "code",
      "source": [
        "df.info() # shows the info about the data frame"
      ],
      "metadata": {
        "colab": {
          "base_uri": "https://localhost:8080/"
        },
        "id": "1QRdX5z-BzYz",
        "outputId": "99f0a66f-b960-403f-8fab-21329a803f7b"
      },
      "execution_count": null,
      "outputs": [
        {
          "output_type": "stream",
          "name": "stdout",
          "text": [
            "<class 'pandas.core.frame.DataFrame'>\n",
            "RangeIndex: 77 entries, 0 to 76\n",
            "Data columns (total 18 columns):\n",
            " #   Column        Non-Null Count  Dtype  \n",
            "---  ------        --------------  -----  \n",
            " 0   Number        77 non-null     int64  \n",
            " 1   Format        77 non-null     object \n",
            " 2   Inning        77 non-null     int64  \n",
            " 3   Position      77 non-null     object \n",
            " 4   Score         77 non-null     int64  \n",
            " 5   Balls         77 non-null     int64  \n",
            " 6   Strike Rate   77 non-null     float64\n",
            " 7   Against       77 non-null     object \n",
            " 8   Venue         77 non-null     object \n",
            " 9   Host Nation   77 non-null     object \n",
            " 10  Series        77 non-null     object \n",
            " 11  Year          77 non-null     int64  \n",
            " 12  Team Total    77 non-null     int64  \n",
            " 13  Wickets lost  77 non-null     int64  \n",
            " 14  Not Out       77 non-null     object \n",
            " 15  MOTM          77 non-null     object \n",
            " 16  Win           77 non-null     object \n",
            " 17  Captain       77 non-null     object \n",
            "dtypes: float64(1), int64(7), object(10)\n",
            "memory usage: 11.0+ KB\n"
          ]
        }
      ]
    },
    {
      "cell_type": "code",
      "source": [
        "df.size # shows the no.of elements in the dataframe"
      ],
      "metadata": {
        "colab": {
          "base_uri": "https://localhost:8080/"
        },
        "id": "HttI4V2sB3NP",
        "outputId": "4e1f9193-f63e-4f83-89c1-bc816428ca00"
      },
      "execution_count": null,
      "outputs": [
        {
          "output_type": "execute_result",
          "data": {
            "text/plain": [
              "1386"
            ]
          },
          "metadata": {},
          "execution_count": 9
        }
      ]
    },
    {
      "cell_type": "code",
      "source": [
        "df.shape # shows the no.of rows and coloumns"
      ],
      "metadata": {
        "colab": {
          "base_uri": "https://localhost:8080/"
        },
        "id": "8_SiwxkhB95g",
        "outputId": "17854661-3718-4992-9fff-cfe19e5479a1"
      },
      "execution_count": null,
      "outputs": [
        {
          "output_type": "execute_result",
          "data": {
            "text/plain": [
              "(77, 18)"
            ]
          },
          "metadata": {},
          "execution_count": 10
        }
      ]
    },
    {
      "cell_type": "code",
      "source": [
        "# CONCLUSION 1 - How many times was kohli  MOTM in the matches he scored hundred\n",
        "\n",
        "a1 = np.sum(df['MOTM']=='Yes')\n",
        "a1"
      ],
      "metadata": {
        "colab": {
          "base_uri": "https://localhost:8080/"
        },
        "id": "dZFOOwbJB_EH",
        "outputId": "55346fdc-631e-451d-8d4a-229ba60642e3"
      },
      "execution_count": null,
      "outputs": [
        {
          "output_type": "execute_result",
          "data": {
            "text/plain": [
              "44"
            ]
          },
          "metadata": {},
          "execution_count": 11
        }
      ]
    },
    {
      "cell_type": "code",
      "source": [
        "# CONCLUSION 2 -  How many matches was kolhi notout scoring a century\n",
        "a2 = np.sum(df['Not Out']=='Yes')\n",
        "a2"
      ],
      "metadata": {
        "colab": {
          "base_uri": "https://localhost:8080/"
        },
        "id": "POVjVOlfDKCw",
        "outputId": "9414e535-7eed-47d5-ac7d-877ec89d5516"
      },
      "execution_count": null,
      "outputs": [
        {
          "output_type": "execute_result",
          "data": {
            "text/plain": [
              "22"
            ]
          },
          "metadata": {},
          "execution_count": 13
        }
      ]
    },
    {
      "cell_type": "code",
      "source": [
        "# CONCLUSION 3 - What was the highest strike rate\n",
        "a3 = np.max(df['Strike Rate'])\n",
        "a3"
      ],
      "metadata": {
        "colab": {
          "base_uri": "https://localhost:8080/"
        },
        "id": "TRk-Lk8WFnhw",
        "outputId": "debc1f89-d0c7-4146-a2ab-7ec6aab499f6"
      },
      "execution_count": null,
      "outputs": [
        {
          "output_type": "execute_result",
          "data": {
            "text/plain": [
              "226.0"
            ]
          },
          "metadata": {},
          "execution_count": 14
        }
      ]
    },
    {
      "cell_type": "code",
      "source": [
        "# CONCLUSION 4 - In how many matches did kohli come at no.3 and won the game\n",
        "a4 = np.sum((df['Position']=='3')&(df['Win']=='Yes'))\n",
        "a4"
      ],
      "metadata": {
        "colab": {
          "base_uri": "https://localhost:8080/"
        },
        "id": "sl0eQ36IGHt3",
        "outputId": "f18165b8-078f-456f-d093-2a764f4160ad"
      },
      "execution_count": null,
      "outputs": [
        {
          "output_type": "execute_result",
          "data": {
            "text/plain": [
              "30"
            ]
          },
          "metadata": {},
          "execution_count": 15
        }
      ]
    },
    {
      "cell_type": "code",
      "source": [
        "# CONCLUSION 5 - COUNT OF THE WINS BASED ON THE  Innings number\n",
        "df.groupby(['Inning','Win']).size()"
      ],
      "metadata": {
        "colab": {
          "base_uri": "https://localhost:8080/"
        },
        "id": "7T2CK2htHKbQ",
        "outputId": "e81e0985-360b-47ee-b655-6e7711a0fd69"
      },
      "execution_count": null,
      "outputs": [
        {
          "output_type": "execute_result",
          "data": {
            "text/plain": [
              "Inning  Win  \n",
              "1       Drawn     1\n",
              "        No        4\n",
              "        Tie       1\n",
              "        Yes      25\n",
              "2       Drawn     3\n",
              "        No       10\n",
              "        Yes      28\n",
              "3       Drawn     1\n",
              "        Yes       2\n",
              "4       Drawn     1\n",
              "        No        1\n",
              "dtype: int64"
            ]
          },
          "metadata": {},
          "execution_count": 17
        }
      ]
    },
    {
      "cell_type": "code",
      "source": [
        "# CONCLUSION - 6 : THE NO OF CENTURIES IN EVERY VENUE\n",
        "import matplotlib.pyplot as plt\n",
        "\n",
        "plt.figure(figsize=(30,10))\n",
        "df['Venue'].value_counts().plot(kind='bar')"
      ],
      "metadata": {
        "colab": {
          "base_uri": "https://localhost:8080/",
          "height": 418
        },
        "id": "DasKBHiTITgg",
        "outputId": "8c3e7a32-019b-47fe-d1d0-b6ab1c083ad0"
      },
      "execution_count": null,
      "outputs": [
        {
          "output_type": "execute_result",
          "data": {
            "text/plain": [
              "<matplotlib.axes._subplots.AxesSubplot at 0x7f8e41e421c0>"
            ]
          },
          "metadata": {},
          "execution_count": 19
        },
        {
          "output_type": "display_data",
          "data": {
            "text/plain": [
              "<Figure size 2160x720 with 1 Axes>"
            ],
            "image/png": "[encoded data removed]"
          },
          "metadata": {
            "needs_background": "light"
          }
        }
      ]
    },
    {
      "cell_type": "code",
      "source": [],
      "metadata": {
        "id": "BHI78Xy0JfO_"
      },
      "execution_count": null,
      "outputs": []
    }
  ]
}